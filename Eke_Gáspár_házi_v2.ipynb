{
 "cells": [
  {
   "cell_type": "code",
   "execution_count": 19,
   "id": "396fc831",
   "metadata": {},
   "outputs": [],
   "source": [
    "#imports\n",
    "import pandas as pd\n",
    "from hw_demo_estimation import etl, graph_manipulation as gm, data_viz as dv\n"
   ]
  },
  {
   "cell_type": "code",
   "execution_count": 20,
   "id": "3faac22b",
   "metadata": {},
   "outputs": [
    {
     "name": "stdout",
     "output_type": "stream",
     "text": [
      "loading profiles\n",
      "loading edges\n",
      "1    2642113\n",
      "2    1992414\n",
      "Name: source, dtype: int64\n",
      "Selected profiles: 695406\n",
      "Nodes with edges: 434590\n"
     ]
    }
   ],
   "source": [
    "nodes, edges = etl.load_and_select_profiles_and_edges()\n",
    "G = gm.create_graph_from_nodes_and_edges(nodes, edges)"
   ]
  },
  {
   "cell_type": "code",
   "execution_count": 21,
   "id": "872a5411",
   "metadata": {
    "scrolled": true
   },
   "outputs": [
    {
     "data": {
      "text/html": [
       "<div>\n",
       "<style scoped>\n",
       "    .dataframe tbody tr th:only-of-type {\n",
       "        vertical-align: middle;\n",
       "    }\n",
       "\n",
       "    .dataframe tbody tr th {\n",
       "        vertical-align: top;\n",
       "    }\n",
       "\n",
       "    .dataframe thead th {\n",
       "        text-align: right;\n",
       "    }\n",
       "</style>\n",
       "<table border=\"1\" class=\"dataframe\">\n",
       "  <thead>\n",
       "    <tr style=\"text-align: right;\">\n",
       "      <th></th>\n",
       "      <th>user_id</th>\n",
       "      <th>public</th>\n",
       "      <th>gender</th>\n",
       "      <th>region</th>\n",
       "      <th>AGE</th>\n",
       "      <th>TRAIN_TEST</th>\n",
       "    </tr>\n",
       "  </thead>\n",
       "  <tbody>\n",
       "    <tr>\n",
       "      <th>0</th>\n",
       "      <td>1</td>\n",
       "      <td>1</td>\n",
       "      <td>1.0</td>\n",
       "      <td>zilinsky kraj, zilina</td>\n",
       "      <td>26.0</td>\n",
       "      <td>TRAIN</td>\n",
       "    </tr>\n",
       "    <tr>\n",
       "      <th>4</th>\n",
       "      <td>4</td>\n",
       "      <td>1</td>\n",
       "      <td>0.0</td>\n",
       "      <td>banskobystricky kraj, brezno</td>\n",
       "      <td>26.0</td>\n",
       "      <td>TRAIN</td>\n",
       "    </tr>\n",
       "    <tr>\n",
       "      <th>5</th>\n",
       "      <td>17</td>\n",
       "      <td>1</td>\n",
       "      <td>0.0</td>\n",
       "      <td>zilinsky kraj, martin</td>\n",
       "      <td>27.0</td>\n",
       "      <td>TRAIN</td>\n",
       "    </tr>\n",
       "    <tr>\n",
       "      <th>6</th>\n",
       "      <td>5</td>\n",
       "      <td>1</td>\n",
       "      <td>1.0</td>\n",
       "      <td>zilinsky kraj, zilina</td>\n",
       "      <td>26.0</td>\n",
       "      <td>TRAIN</td>\n",
       "    </tr>\n",
       "    <tr>\n",
       "      <th>7</th>\n",
       "      <td>18</td>\n",
       "      <td>1</td>\n",
       "      <td>1.0</td>\n",
       "      <td>zilinsky kraj, kysucke nove mesto</td>\n",
       "      <td>18.0</td>\n",
       "      <td>TRAIN</td>\n",
       "    </tr>\n",
       "    <tr>\n",
       "      <th>...</th>\n",
       "      <td>...</td>\n",
       "      <td>...</td>\n",
       "      <td>...</td>\n",
       "      <td>...</td>\n",
       "      <td>...</td>\n",
       "      <td>...</td>\n",
       "    </tr>\n",
       "    <tr>\n",
       "      <th>1632778</th>\n",
       "      <td>1632779</td>\n",
       "      <td>1</td>\n",
       "      <td>1.0</td>\n",
       "      <td>trenciansky kraj, myjava</td>\n",
       "      <td>34.0</td>\n",
       "      <td>TRAIN</td>\n",
       "    </tr>\n",
       "    <tr>\n",
       "      <th>1632781</th>\n",
       "      <td>1632782</td>\n",
       "      <td>1</td>\n",
       "      <td>1.0</td>\n",
       "      <td>bratislavsky kraj, bratislava - nove mesto</td>\n",
       "      <td>32.0</td>\n",
       "      <td>TRAIN</td>\n",
       "    </tr>\n",
       "    <tr>\n",
       "      <th>1632782</th>\n",
       "      <td>1632783</td>\n",
       "      <td>1</td>\n",
       "      <td>1.0</td>\n",
       "      <td>trenciansky kraj, povazska bystrica</td>\n",
       "      <td>37.0</td>\n",
       "      <td>TRAIN</td>\n",
       "    </tr>\n",
       "    <tr>\n",
       "      <th>1632784</th>\n",
       "      <td>1632785</td>\n",
       "      <td>1</td>\n",
       "      <td>1.0</td>\n",
       "      <td>trenciansky kraj, povazska bystrica</td>\n",
       "      <td>37.0</td>\n",
       "      <td>TRAIN</td>\n",
       "    </tr>\n",
       "    <tr>\n",
       "      <th>1632791</th>\n",
       "      <td>1632792</td>\n",
       "      <td>1</td>\n",
       "      <td>0.0</td>\n",
       "      <td>trenciansky kraj, bojnice</td>\n",
       "      <td>35.0</td>\n",
       "      <td>TRAIN</td>\n",
       "    </tr>\n",
       "  </tbody>\n",
       "</table>\n",
       "<p>434590 rows × 6 columns</p>\n",
       "</div>"
      ],
      "text/plain": [
       "         user_id  public  gender                                      region  \\\n",
       "0              1       1     1.0                       zilinsky kraj, zilina   \n",
       "4              4       1     0.0                banskobystricky kraj, brezno   \n",
       "5             17       1     0.0                       zilinsky kraj, martin   \n",
       "6              5       1     1.0                       zilinsky kraj, zilina   \n",
       "7             18       1     1.0           zilinsky kraj, kysucke nove mesto   \n",
       "...          ...     ...     ...                                         ...   \n",
       "1632778  1632779       1     1.0                    trenciansky kraj, myjava   \n",
       "1632781  1632782       1     1.0  bratislavsky kraj, bratislava - nove mesto   \n",
       "1632782  1632783       1     1.0         trenciansky kraj, povazska bystrica   \n",
       "1632784  1632785       1     1.0         trenciansky kraj, povazska bystrica   \n",
       "1632791  1632792       1     0.0                   trenciansky kraj, bojnice   \n",
       "\n",
       "          AGE TRAIN_TEST  \n",
       "0        26.0      TRAIN  \n",
       "4        26.0      TRAIN  \n",
       "5        27.0      TRAIN  \n",
       "6        26.0      TRAIN  \n",
       "7        18.0      TRAIN  \n",
       "...       ...        ...  \n",
       "1632778  34.0      TRAIN  \n",
       "1632781  32.0      TRAIN  \n",
       "1632782  37.0      TRAIN  \n",
       "1632784  37.0      TRAIN  \n",
       "1632791  35.0      TRAIN  \n",
       "\n",
       "[434590 rows x 6 columns]"
      ]
     },
     "execution_count": 21,
     "metadata": {},
     "output_type": "execute_result"
    }
   ],
   "source": [
    "nodes"
   ]
  },
  {
   "cell_type": "code",
   "execution_count": 22,
   "id": "b5182a90",
   "metadata": {},
   "outputs": [
    {
     "data": {
      "image/png": "[encoded data removed]",
      "text/plain": [
       "<Figure size 432x288 with 1 Axes>"
      ]
     },
     "metadata": {
      "needs_background": "light"
     },
     "output_type": "display_data"
    }
   ],
   "source": [
    "dv.plot_degree_distribution(G)"
   ]
  },
  {
   "cell_type": "code",
   "execution_count": 23,
   "id": "55fe98bc",
   "metadata": {},
   "outputs": [
    {
     "data": {
      "image/png": "[encoded data removed]",
      "text/plain": [
       "<Figure size 432x288 with 1 Axes>"
      ]
     },
     "metadata": {
      "needs_background": "light"
     },
     "output_type": "display_data"
    }
   ],
   "source": [
    "#creating a correlation analysis between network characteristics and user demographics\n",
    "#Degree Centrality: the number of edges incident upon a node in the network\n",
    "dv.plot_node_degree_by_gender(nodes, G)"
   ]
  },
  {
   "cell_type": "code",
   "execution_count": 24,
   "id": "2c65472b",
   "metadata": {},
   "outputs": [
    {
     "data": {
      "image/png": "[encoded data removed]",
      "text/plain": [
       "<Figure size 432x288 with 1 Axes>"
      ]
     },
     "metadata": {
      "needs_background": "light"
     },
     "output_type": "display_data"
    }
   ],
   "source": [
    "#this graph shows how each gender is distributed by age,\n",
    "#and the ration between the two genders per age group\n",
    "dv.plot_age_distribution_by_gender(nodes)"
   ]
  },
  {
   "cell_type": "code",
   "execution_count": 25,
   "id": "d58d49e7",
   "metadata": {},
   "outputs": [
    {
     "data": {
      "image/png": "[encoded data removed]",
      "text/plain": [
       "<Figure size 432x288 with 2 Axes>"
      ]
     },
     "metadata": {
      "needs_background": "light"
     },
     "output_type": "display_data"
    }
   ],
   "source": [
    "#creating heat map that indicates the number of connections between age groups of the 2 gender with different shades\n",
    "edges_feat = gm.add_node_features_to_edges(nodes, edges)\n",
    "dv.plot_age_relations_heatmap(edges_feat)"
   ]
  },
  {
   "cell_type": "code",
   "execution_count": 26,
   "id": "bf3cc159",
   "metadata": {},
   "outputs": [],
   "source": [
    "# to be able to efficiently analyse the database, we separated it based on the 'TRAIN_TEST' column of nodes\n",
    "# the two sections are the 'TEST' and 'TRAIN' sections\n",
    "is_train = nodes['TRAIN_TEST'] == 'TRAIN'\n",
    "nodes_train = nodes[is_train]\n",
    "is_test = nodes['TRAIN_TEST'] == 'TEST'\n",
    "nodes_test = nodes[is_test]"
   ]
  },
  {
   "cell_type": "code",
   "execution_count": 27,
   "id": "8cf00149",
   "metadata": {},
   "outputs": [],
   "source": [
    "#creating graphs for both 'TEST' and 'TRAIN' sections\n",
    "G_test = gm.create_graph_from_nodes_and_edges(nodes_test, edges)\n",
    "G_train = gm.create_graph_from_nodes_and_edges(nodes_train, edges)"
   ]
  },
  {
   "cell_type": "code",
   "execution_count": 28,
   "id": "5f227ebe",
   "metadata": {},
   "outputs": [
    {
     "name": "stderr",
     "output_type": "stream",
     "text": [
      "100%|██████████| 40000/40000 [05:08<00:00, 129.72it/s]\n"
     ]
    }
   ],
   "source": [
    "# \n",
    "from tqdm import tqdm\n",
    "\n",
    "\n",
    "pred_gend = []\n",
    "for userid in tqdm(nodes_test.user_id):\n",
    "    neighbors_it = set(G_train.neighbors(userid))\n",
    "    genders = nodes_train[nodes_train.user_id.isin(neighbors_it)].dropna().groupby('gender').count()\n",
    "    try:\n",
    "        males = genders.loc[1, 'user_id']\n",
    "    except:\n",
    "        males = 0\n",
    "    try:\n",
    "        females = genders.loc[0, 'user_id']\n",
    "    except:\n",
    "        females = 0\n",
    "\n",
    "    if males >= females:\n",
    "        pred_gend.append(1)\n",
    "    else:\n",
    "        pred_gend.append(0)\n",
    "\n",
    "prediction = pd.DataFrame(dict(user_id = nodes_test.user_id, gender = pred_gend))"
   ]
  },
  {
   "cell_type": "code",
   "execution_count": 29,
   "id": "e37ccc5e",
   "metadata": {
    "scrolled": true
   },
   "outputs": [
    {
     "data": {
      "text/html": [
       "<div>\n",
       "<style scoped>\n",
       "    .dataframe tbody tr th:only-of-type {\n",
       "        vertical-align: middle;\n",
       "    }\n",
       "\n",
       "    .dataframe tbody tr th {\n",
       "        vertical-align: top;\n",
       "    }\n",
       "\n",
       "    .dataframe thead th {\n",
       "        text-align: right;\n",
       "    }\n",
       "</style>\n",
       "<table border=\"1\" class=\"dataframe\">\n",
       "  <thead>\n",
       "    <tr style=\"text-align: right;\">\n",
       "      <th></th>\n",
       "      <th>user_id</th>\n",
       "      <th>gender</th>\n",
       "    </tr>\n",
       "  </thead>\n",
       "  <tbody>\n",
       "    <tr>\n",
       "      <th>21</th>\n",
       "      <td>11</td>\n",
       "      <td>1</td>\n",
       "    </tr>\n",
       "    <tr>\n",
       "      <th>44</th>\n",
       "      <td>27</td>\n",
       "      <td>1</td>\n",
       "    </tr>\n",
       "    <tr>\n",
       "      <th>54</th>\n",
       "      <td>29</td>\n",
       "      <td>1</td>\n",
       "    </tr>\n",
       "    <tr>\n",
       "      <th>62</th>\n",
       "      <td>92</td>\n",
       "      <td>1</td>\n",
       "    </tr>\n",
       "    <tr>\n",
       "      <th>66</th>\n",
       "      <td>93</td>\n",
       "      <td>1</td>\n",
       "    </tr>\n",
       "    <tr>\n",
       "      <th>...</th>\n",
       "      <td>...</td>\n",
       "      <td>...</td>\n",
       "    </tr>\n",
       "    <tr>\n",
       "      <th>1632018</th>\n",
       "      <td>1632019</td>\n",
       "      <td>1</td>\n",
       "    </tr>\n",
       "    <tr>\n",
       "      <th>1632203</th>\n",
       "      <td>1632204</td>\n",
       "      <td>0</td>\n",
       "    </tr>\n",
       "    <tr>\n",
       "      <th>1632378</th>\n",
       "      <td>1632379</td>\n",
       "      <td>0</td>\n",
       "    </tr>\n",
       "    <tr>\n",
       "      <th>1632510</th>\n",
       "      <td>1632511</td>\n",
       "      <td>1</td>\n",
       "    </tr>\n",
       "    <tr>\n",
       "      <th>1632582</th>\n",
       "      <td>1632583</td>\n",
       "      <td>1</td>\n",
       "    </tr>\n",
       "  </tbody>\n",
       "</table>\n",
       "<p>40000 rows × 2 columns</p>\n",
       "</div>"
      ],
      "text/plain": [
       "         user_id  gender\n",
       "21            11       1\n",
       "44            27       1\n",
       "54            29       1\n",
       "62            92       1\n",
       "66            93       1\n",
       "...          ...     ...\n",
       "1632018  1632019       1\n",
       "1632203  1632204       0\n",
       "1632378  1632379       0\n",
       "1632510  1632511       1\n",
       "1632582  1632583       1\n",
       "\n",
       "[40000 rows x 2 columns]"
      ]
     },
     "execution_count": 29,
     "metadata": {},
     "output_type": "execute_result"
    }
   ],
   "source": [
    "prediction"
   ]
  },
  {
   "cell_type": "code",
   "execution_count": 30,
   "id": "a5c4e1be",
   "metadata": {},
   "outputs": [
    {
     "data": {
      "text/html": [
       "<div>\n",
       "<style scoped>\n",
       "    .dataframe tbody tr th:only-of-type {\n",
       "        vertical-align: middle;\n",
       "    }\n",
       "\n",
       "    .dataframe tbody tr th {\n",
       "        vertical-align: top;\n",
       "    }\n",
       "\n",
       "    .dataframe thead th {\n",
       "        text-align: right;\n",
       "    }\n",
       "</style>\n",
       "<table border=\"1\" class=\"dataframe\">\n",
       "  <thead>\n",
       "    <tr style=\"text-align: right;\">\n",
       "      <th></th>\n",
       "      <th>user_id</th>\n",
       "      <th>public</th>\n",
       "      <th>gender</th>\n",
       "      <th>region</th>\n",
       "      <th>AGE</th>\n",
       "      <th>TRAIN_TEST</th>\n",
       "    </tr>\n",
       "  </thead>\n",
       "  <tbody>\n",
       "    <tr>\n",
       "      <th>61469</th>\n",
       "      <td>61452</td>\n",
       "      <td>1</td>\n",
       "      <td>0.0</td>\n",
       "      <td>presovsky kraj, poprad</td>\n",
       "      <td>23.0</td>\n",
       "      <td>TRAIN</td>\n",
       "    </tr>\n",
       "    <tr>\n",
       "      <th>1338802</th>\n",
       "      <td>1338818</td>\n",
       "      <td>1</td>\n",
       "      <td>0.0</td>\n",
       "      <td>trenciansky kraj, partizanske</td>\n",
       "      <td>21.0</td>\n",
       "      <td>TRAIN</td>\n",
       "    </tr>\n",
       "    <tr>\n",
       "      <th>1164286</th>\n",
       "      <td>1164203</td>\n",
       "      <td>1</td>\n",
       "      <td>0.0</td>\n",
       "      <td>nitriansky kraj, sahy</td>\n",
       "      <td>21.0</td>\n",
       "      <td>TRAIN</td>\n",
       "    </tr>\n",
       "    <tr>\n",
       "      <th>369081</th>\n",
       "      <td>369152</td>\n",
       "      <td>1</td>\n",
       "      <td>1.0</td>\n",
       "      <td>nitriansky kraj, komarno</td>\n",
       "      <td>20.0</td>\n",
       "      <td>TRAIN</td>\n",
       "    </tr>\n",
       "    <tr>\n",
       "      <th>645387</th>\n",
       "      <td>645415</td>\n",
       "      <td>1</td>\n",
       "      <td>0.0</td>\n",
       "      <td>trenciansky kraj, partizanske</td>\n",
       "      <td>18.0</td>\n",
       "      <td>TRAIN</td>\n",
       "    </tr>\n",
       "    <tr>\n",
       "      <th>...</th>\n",
       "      <td>...</td>\n",
       "      <td>...</td>\n",
       "      <td>...</td>\n",
       "      <td>...</td>\n",
       "      <td>...</td>\n",
       "      <td>...</td>\n",
       "    </tr>\n",
       "    <tr>\n",
       "      <th>629402</th>\n",
       "      <td>629392</td>\n",
       "      <td>1</td>\n",
       "      <td>1.0</td>\n",
       "      <td>trenciansky kraj, puchov</td>\n",
       "      <td>32.0</td>\n",
       "      <td>TRAIN</td>\n",
       "    </tr>\n",
       "    <tr>\n",
       "      <th>418552</th>\n",
       "      <td>418588</td>\n",
       "      <td>1</td>\n",
       "      <td>0.0</td>\n",
       "      <td>nitriansky kraj, nove zamky</td>\n",
       "      <td>20.0</td>\n",
       "      <td>TRAIN</td>\n",
       "    </tr>\n",
       "    <tr>\n",
       "      <th>442187</th>\n",
       "      <td>442223</td>\n",
       "      <td>1</td>\n",
       "      <td>1.0</td>\n",
       "      <td>nitriansky kraj, sala</td>\n",
       "      <td>19.0</td>\n",
       "      <td>TRAIN</td>\n",
       "    </tr>\n",
       "    <tr>\n",
       "      <th>411356</th>\n",
       "      <td>411414</td>\n",
       "      <td>1</td>\n",
       "      <td>1.0</td>\n",
       "      <td>banskobystricky kraj, rimavska sobota</td>\n",
       "      <td>50.0</td>\n",
       "      <td>TRAIN</td>\n",
       "    </tr>\n",
       "    <tr>\n",
       "      <th>820642</th>\n",
       "      <td>820648</td>\n",
       "      <td>1</td>\n",
       "      <td>0.0</td>\n",
       "      <td>kosicky kraj, michalovce</td>\n",
       "      <td>18.0</td>\n",
       "      <td>TRAIN</td>\n",
       "    </tr>\n",
       "  </tbody>\n",
       "</table>\n",
       "<p>40000 rows × 6 columns</p>\n",
       "</div>"
      ],
      "text/plain": [
       "         user_id  public  gender                                 region   AGE  \\\n",
       "61469      61452       1     0.0                 presovsky kraj, poprad  23.0   \n",
       "1338802  1338818       1     0.0          trenciansky kraj, partizanske  21.0   \n",
       "1164286  1164203       1     0.0                  nitriansky kraj, sahy  21.0   \n",
       "369081    369152       1     1.0               nitriansky kraj, komarno  20.0   \n",
       "645387    645415       1     0.0          trenciansky kraj, partizanske  18.0   \n",
       "...          ...     ...     ...                                    ...   ...   \n",
       "629402    629392       1     1.0               trenciansky kraj, puchov  32.0   \n",
       "418552    418588       1     0.0            nitriansky kraj, nove zamky  20.0   \n",
       "442187    442223       1     1.0                  nitriansky kraj, sala  19.0   \n",
       "411356    411414       1     1.0  banskobystricky kraj, rimavska sobota  50.0   \n",
       "820642    820648       1     0.0               kosicky kraj, michalovce  18.0   \n",
       "\n",
       "        TRAIN_TEST  \n",
       "61469        TRAIN  \n",
       "1338802      TRAIN  \n",
       "1164286      TRAIN  \n",
       "369081       TRAIN  \n",
       "645387       TRAIN  \n",
       "...            ...  \n",
       "629402       TRAIN  \n",
       "418552       TRAIN  \n",
       "442187       TRAIN  \n",
       "411356       TRAIN  \n",
       "820642       TRAIN  \n",
       "\n",
       "[40000 rows x 6 columns]"
      ]
     },
     "execution_count": 30,
     "metadata": {},
     "output_type": "execute_result"
    }
   ],
   "source": [
    "# we created a train subsample to evaluate the accuracy of the used method.\n",
    "\n",
    "nodes=nodes.dropna()\n",
    "nodes_test_sub=nodes.sample(n=40000)\n",
    "nodes_test_sub"
   ]
  },
  {
   "cell_type": "code",
   "execution_count": 31,
   "id": "8004923a",
   "metadata": {},
   "outputs": [
    {
     "name": "stderr",
     "output_type": "stream",
     "text": [
      "100%|██████████| 40000/40000 [05:03<00:00, 131.80it/s]\n"
     ]
    }
   ],
   "source": [
    "from tqdm import tqdm\n",
    "\n",
    "pred_gend = []\n",
    "for userid in tqdm(nodes_test_sub.user_id):\n",
    "    neighbors_it = set(G_train.neighbors(userid))\n",
    "    genders = nodes_train[nodes_train.user_id.isin(neighbors_it)].dropna().groupby('gender').count()\n",
    "    try:\n",
    "        males = genders.loc[1, 'user_id']\n",
    "    except:\n",
    "        males = 0\n",
    "    try:\n",
    "        females = genders.loc[0, 'user_id']\n",
    "    except:\n",
    "        females = 0\n",
    "\n",
    "    if males >= females:\n",
    "        pred_gend.append(1)\n",
    "    else:\n",
    "        pred_gend.append(0)\n",
    "\n",
    "prediction_train = pd.DataFrame(dict(user_id = nodes_test_sub.user_id, gender = nodes_test_sub.gender, pred_gend = pred_gend))"
   ]
  },
  {
   "cell_type": "code",
   "execution_count": 32,
   "id": "521b5d30",
   "metadata": {},
   "outputs": [
    {
     "data": {
      "text/html": [
       "<div>\n",
       "<style scoped>\n",
       "    .dataframe tbody tr th:only-of-type {\n",
       "        vertical-align: middle;\n",
       "    }\n",
       "\n",
       "    .dataframe tbody tr th {\n",
       "        vertical-align: top;\n",
       "    }\n",
       "\n",
       "    .dataframe thead th {\n",
       "        text-align: right;\n",
       "    }\n",
       "</style>\n",
       "<table border=\"1\" class=\"dataframe\">\n",
       "  <thead>\n",
       "    <tr style=\"text-align: right;\">\n",
       "      <th></th>\n",
       "      <th>user_id</th>\n",
       "      <th>gender</th>\n",
       "      <th>pred_gend</th>\n",
       "    </tr>\n",
       "  </thead>\n",
       "  <tbody>\n",
       "    <tr>\n",
       "      <th>61469</th>\n",
       "      <td>61452</td>\n",
       "      <td>0.0</td>\n",
       "      <td>1</td>\n",
       "    </tr>\n",
       "    <tr>\n",
       "      <th>1338802</th>\n",
       "      <td>1338818</td>\n",
       "      <td>0.0</td>\n",
       "      <td>1</td>\n",
       "    </tr>\n",
       "    <tr>\n",
       "      <th>1164286</th>\n",
       "      <td>1164203</td>\n",
       "      <td>0.0</td>\n",
       "      <td>1</td>\n",
       "    </tr>\n",
       "    <tr>\n",
       "      <th>369081</th>\n",
       "      <td>369152</td>\n",
       "      <td>1.0</td>\n",
       "      <td>1</td>\n",
       "    </tr>\n",
       "    <tr>\n",
       "      <th>645387</th>\n",
       "      <td>645415</td>\n",
       "      <td>0.0</td>\n",
       "      <td>1</td>\n",
       "    </tr>\n",
       "    <tr>\n",
       "      <th>...</th>\n",
       "      <td>...</td>\n",
       "      <td>...</td>\n",
       "      <td>...</td>\n",
       "    </tr>\n",
       "    <tr>\n",
       "      <th>629402</th>\n",
       "      <td>629392</td>\n",
       "      <td>1.0</td>\n",
       "      <td>1</td>\n",
       "    </tr>\n",
       "    <tr>\n",
       "      <th>418552</th>\n",
       "      <td>418588</td>\n",
       "      <td>0.0</td>\n",
       "      <td>1</td>\n",
       "    </tr>\n",
       "    <tr>\n",
       "      <th>442187</th>\n",
       "      <td>442223</td>\n",
       "      <td>1.0</td>\n",
       "      <td>1</td>\n",
       "    </tr>\n",
       "    <tr>\n",
       "      <th>411356</th>\n",
       "      <td>411414</td>\n",
       "      <td>1.0</td>\n",
       "      <td>1</td>\n",
       "    </tr>\n",
       "    <tr>\n",
       "      <th>820642</th>\n",
       "      <td>820648</td>\n",
       "      <td>0.0</td>\n",
       "      <td>1</td>\n",
       "    </tr>\n",
       "  </tbody>\n",
       "</table>\n",
       "<p>40000 rows × 3 columns</p>\n",
       "</div>"
      ],
      "text/plain": [
       "         user_id  gender  pred_gend\n",
       "61469      61452     0.0          1\n",
       "1338802  1338818     0.0          1\n",
       "1164286  1164203     0.0          1\n",
       "369081    369152     1.0          1\n",
       "645387    645415     0.0          1\n",
       "...          ...     ...        ...\n",
       "629402    629392     1.0          1\n",
       "418552    418588     0.0          1\n",
       "442187    442223     1.0          1\n",
       "411356    411414     1.0          1\n",
       "820642    820648     0.0          1\n",
       "\n",
       "[40000 rows x 3 columns]"
      ]
     },
     "execution_count": 32,
     "metadata": {},
     "output_type": "execute_result"
    }
   ],
   "source": [
    "prediction_train"
   ]
  },
  {
   "cell_type": "code",
   "execution_count": 33,
   "id": "5dc7b94f",
   "metadata": {},
   "outputs": [
    {
     "name": "stdout",
     "output_type": "stream",
     "text": [
      "The confusion matrix is:\n",
      "[[ 9037  9870]\n",
      " [ 9622 11471]]\n",
      " with the accuracy score of: 0.5127\n"
     ]
    }
   ],
   "source": [
    "from sklearn.metrics import accuracy_score, confusion_matrix\n",
    "\n",
    "obs = nodes_test_sub.gender.dropna()\n",
    "prediction2 = prediction_train.pred_gend\n",
    "\n",
    "accuracyscore = accuracy_score(obs, prediction2)\n",
    "confusionmatrix = confusion_matrix(obs, prediction2)\n",
    "print(f\"The confusion matrix is:\\n{confusionmatrix}\\n with the accuracy score of: {accuracyscore}\")"
   ]
  },
  {
   "cell_type": "code",
   "execution_count": null,
   "id": "4ecd6ea5",
   "metadata": {},
   "outputs": [],
   "source": []
  }
 ],
 "metadata": {
  "kernelspec": {
   "display_name": "Python 3 (ipykernel)",
   "language": "python",
   "name": "python3"
  },
  "language_info": {
   "codemirror_mode": {
    "name": "ipython",
    "version": 3
   },
   "file_extension": ".py",
   "mimetype": "text/x-python",
   "name": "python",
   "nbconvert_exporter": "python",
   "pygments_lexer": "ipython3",
   "version": "3.9.7"
  }
 },
 "nbformat": 4,
 "nbformat_minor": 5
}
